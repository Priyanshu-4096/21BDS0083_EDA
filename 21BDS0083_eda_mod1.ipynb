{
  "nbformat": 4,
  "nbformat_minor": 0,
  "metadata": {
    "colab": {
      "provenance": [],
      "authorship_tag": "ABX9TyPDfm3n/u7LSSWsyoYJ1j+y",
      "include_colab_link": true
    },
    "kernelspec": {
      "name": "python3",
      "display_name": "Python 3"
    },
    "language_info": {
      "name": "python"
    }
  },
  "cells": [
    {
      "cell_type": "markdown",
      "metadata": {
        "id": "view-in-github",
        "colab_type": "text"
      },
      "source": [
        "<a href=\"https://colab.research.google.com/github/Priyanshu-4096/21BDS0083_EDA/blob/main/21BDS0083_eda_mod1.ipynb\" target=\"_parent\"><img src=\"https://colab.research.google.com/assets/colab-badge.svg\" alt=\"Open In Colab\"/></a>"
      ]
    },
    {
      "cell_type": "markdown",
      "source": [
        "https://github.com/Priyanshu-4096/21BDS0083_EDA"
      ],
      "metadata": {
        "id": "qdcBwKW_zG4z"
      }
    },
    {
      "cell_type": "markdown",
      "source": [
        "#Name - Priyanshu Joarder\n",
        "#Reg no - 21BDS0083\n",
        "#Course Title - Exploratory Data Analysis\n",
        "#Course Code - BCSE331L"
      ],
      "metadata": {
        "id": "xv69fT0TcIK6"
      }
    },
    {
      "cell_type": "markdown",
      "source": [
        "Module 1: Introduction to Exploratory Data Analysis"
      ],
      "metadata": {
        "id": "ztsk9943wDxQ"
      }
    },
    {
      "cell_type": "code",
      "execution_count": null,
      "metadata": {
        "colab": {
          "base_uri": "https://localhost:8080/"
        },
        "id": "lofJLo65y5o8",
        "outputId": "1fddb1d3-1790-4c72-b71c-a9e298d6a6e7"
      },
      "outputs": [
        {
          "output_type": "stream",
          "name": "stdout",
          "text": [
            "Data Types:\n",
            "rownames         int64\n",
            "Person_ID        int64\n",
            "Hospitalised    object\n",
            "Died            object\n",
            "Urban           object\n",
            "Year             int64\n",
            "Month            int64\n",
            "Sex             object\n",
            "Age              int64\n",
            "Education       object\n",
            "Occupation      object\n",
            "method          object\n",
            "dtype: object\n",
            "\n",
            "Data Characteristics:\n",
            "Discrete data: ['rownames', 'Person_ID', 'Year', 'Month', 'Age']\n",
            "Continuous data: []\n",
            "Categorical data: ['Hospitalised', 'Died', 'Urban', 'Sex', 'Education', 'Occupation', 'method']\n",
            "\n",
            "Measurement Scales:\n",
            "Nominal: ['Sex', 'Occupation', 'method']\n",
            "Ordinal: ['Education']\n",
            "Interval: []\n",
            "Ratio: ['Age']\n"
          ]
        }
      ],
      "source": [
        "import pandas as pd\n",
        "\n",
        "# Load the dataset\n",
        "df = pd.read_csv('SuicideChina.csv')\n",
        "\n",
        "# Explore data types\n",
        "print(\"Data Types:\")\n",
        "print(df.dtypes)\n",
        "\n",
        "# Identify discrete, continuous, and categorical data\n",
        "print(\"\\nData Characteristics:\")\n",
        "print(\"Discrete data:\", list(df.select_dtypes(include='integer').columns))\n",
        "print(\"Continuous data:\", list(df.select_dtypes(include='float').columns))\n",
        "print(\"Categorical data:\", list(df.select_dtypes(include='object').columns))\n",
        "\n",
        "# Determine measurement scales\n",
        "print(\"\\nMeasurement Scales:\")\n",
        "nominal_cols = ['Sex', 'Occupation', 'method']\n",
        "ordinal_cols = ['Education']\n",
        "interval_cols = []\n",
        "ratio_cols = ['Age']\n",
        "print(\"Nominal:\", nominal_cols)\n",
        "print(\"Ordinal:\", ordinal_cols)\n",
        "print(\"Interval:\", interval_cols)\n",
        "print(\"Ratio:\", ratio_cols)"
      ]
    }
  ]
}