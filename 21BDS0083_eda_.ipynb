{
  "nbformat": 4,
  "nbformat_minor": 0,
  "metadata": {
    "colab": {
      "provenance": [],
      "authorship_tag": "ABX9TyMCUlfSlf4b0DoCUGtsIpqO",
      "include_colab_link": true
    },
    "kernelspec": {
      "name": "python3",
      "display_name": "Python 3"
    },
    "language_info": {
      "name": "python"
    }
  },
  "cells": [
    {
      "cell_type": "markdown",
      "metadata": {
        "id": "view-in-github",
        "colab_type": "text"
      },
      "source": [
        "<a href=\"https://colab.research.google.com/github/Priyanshu-4096/21BDS0083_EDA/blob/main/21BDS0083_eda_.ipynb\" target=\"_parent\"><img src=\"https://colab.research.google.com/assets/colab-badge.svg\" alt=\"Open In Colab\"/></a>"
      ]
    },
    {
      "cell_type": "markdown",
      "source": [
        "Name - Priyanshu Joarder\n",
        "Reg no - 21BDS0083\n",
        "Course Title - Exploratory Data Analysis\n",
        "Course Code - BCSE331L"
      ],
      "metadata": {
        "id": "xv69fT0TcIK6"
      }
    },
    {
      "cell_type": "markdown",
      "source": [
        "Load the Dataset and explore Dimension"
      ],
      "metadata": {
        "id": "cECrHsGUbj7x"
      }
    },
    {
      "cell_type": "code",
      "execution_count": null,
      "metadata": {
        "colab": {
          "base_uri": "https://localhost:8080/"
        },
        "id": "3oSN6Fv6bhWc",
        "outputId": "b7b1a21e-ed81-4430-dd04-16d154b2847e"
      },
      "outputs": [
        {
          "output_type": "stream",
          "name": "stdout",
          "text": [
            "Number of Rows: 2571\n",
            "Number of Columns: 12\n",
            "\n",
            "Maximum Values for Numerical Columns:\n",
            " rownames     2571\n",
            "Person_ID    2571\n",
            "Year         2011\n",
            "Month          12\n",
            "Age           100\n",
            "dtype: int64\n",
            "\n",
            "Maximum Length of Categorical/Text Columns:\n",
            " Hospitalised     3\n",
            "Died             3\n",
            "Urban            7\n",
            "Sex              6\n",
            "Education        9\n",
            "Occupation      16\n",
            "method          13\n",
            "dtype: int64\n",
            "\n",
            "Maximum Number of Unique Values per Column:\n",
            " rownames        2571\n",
            "Person_ID       2571\n",
            "Hospitalised       2\n",
            "Died               2\n",
            "Urban              3\n",
            "Year               3\n",
            "Month             12\n",
            "Sex                2\n",
            "Age               87\n",
            "Education          5\n",
            "Occupation        10\n",
            "method             9\n",
            "dtype: int64\n"
          ]
        },
        {
          "output_type": "stream",
          "name": "stderr",
          "text": [
            "<ipython-input-5-2886fe9b01f9>:16: FutureWarning: DataFrame.applymap has been deprecated. Use DataFrame.map instead.\n",
            "  max_length_categorical = data.select_dtypes(include=['object']).applymap(len).max()\n"
          ]
        },
        {
          "output_type": "execute_result",
          "data": {
            "text/plain": [
              "{'num_rows': 2571,\n",
              " 'num_columns': 12,\n",
              " 'max_values_numerical': rownames     2571\n",
              " Person_ID    2571\n",
              " Year         2011\n",
              " Month          12\n",
              " Age           100\n",
              " dtype: int64,\n",
              " 'max_length_categorical': Hospitalised     3\n",
              " Died             3\n",
              " Urban            7\n",
              " Sex              6\n",
              " Education        9\n",
              " Occupation      16\n",
              " method          13\n",
              " dtype: int64,\n",
              " 'max_unique_values': rownames        2571\n",
              " Person_ID       2571\n",
              " Hospitalised       2\n",
              " Died               2\n",
              " Urban              3\n",
              " Year               3\n",
              " Month             12\n",
              " Sex                2\n",
              " Age               87\n",
              " Education          5\n",
              " Occupation        10\n",
              " method             9\n",
              " dtype: int64}"
            ]
          },
          "metadata": {},
          "execution_count": 5
        }
      ],
      "source": [
        "import pandas as pd\n",
        "\n",
        "# Load dataset (replace with your dataset path)\n",
        "file_path = \"/content/SuicideChina.csv\"\n",
        "data = pd.read_csv(file_path)\n",
        "\n",
        "### Exploring the Dimensions of the Dataset\n",
        "\n",
        "# 1. Get the number of rows and columns (dimensions)\n",
        "num_rows, num_columns = data.shape\n",
        "\n",
        "# 2. Maximum value for each numerical column\n",
        "max_values_numerical = data.select_dtypes(include=['number']).max()\n",
        "\n",
        "# 3. Maximum length of categorical/text fields (if applicable)\n",
        "max_length_categorical = data.select_dtypes(include=['object']).applymap(len).max()\n",
        "\n",
        "# 4. Maximum number of unique values per column (categorical and numerical)\n",
        "max_unique_values = data.apply(lambda col: col.nunique())\n",
        "\n",
        "### Summary of Results\n",
        "print(f\"Number of Rows: {num_rows}\")\n",
        "print(f\"Number of Columns: {num_columns}\")\n",
        "print(\"\\nMaximum Values for Numerical Columns:\\n\", max_values_numerical)\n",
        "print(\"\\nMaximum Length of Categorical/Text Columns:\\n\", max_length_categorical)\n",
        "print(\"\\nMaximum Number of Unique Values per Column:\\n\", max_unique_values)\n",
        "\n",
        "# Optionally, you can return the results in a dictionary format\n",
        "summary_results = {\n",
        "    \"num_rows\": num_rows,\n",
        "    \"num_columns\": num_columns,\n",
        "    \"max_values_numerical\": max_values_numerical,\n",
        "    \"max_length_categorical\": max_length_categorical,\n",
        "    \"max_unique_values\": max_unique_values\n",
        "}\n",
        "\n",
        "summary_results\n"
      ]
    },
    {
      "cell_type": "markdown",
      "source": [
        "Summary and Data Handling"
      ],
      "metadata": {
        "id": "nuIhawePe55_"
      }
    },
    {
      "cell_type": "code",
      "source": [
        "import pandas as pd\n",
        "\n",
        "### 1. Summary Statistics (Numerical and Categorical Data)\n",
        "\n",
        "# Summary for numerical data\n",
        "summary_numerical = data.describe()\n",
        "\n",
        "# Summary for categorical data (e.g., counting unique values and the most frequent value)\n",
        "summary_categorical = data.describe(include=['object'])\n",
        "\n",
        "# Maximum value for numerical data\n",
        "max_values_numerical = data.select_dtypes(include=['number']).max()\n",
        "\n",
        "# Maximum length for categorical/text fields\n",
        "max_length_categorical = data.select_dtypes(include=['object']).applymap(len).max()\n",
        "\n",
        "# Maximum number of unique values per column\n",
        "max_unique_values = data.apply(lambda col: col.nunique())\n",
        "\n",
        "### 2. Data Handling\n",
        "\n",
        "# Handle Missing Values\n",
        "# Fill missing values for numerical columns with the maximum value\n",
        "data_filled = data.copy()\n",
        "for column in data.select_dtypes(include=['number']).columns:\n",
        "    max_value = data[column].max()\n",
        "    data_filled[column].fillna(max_value, inplace=True)\n",
        "\n",
        "# Fill missing values for categorical columns with the most frequent value (mode)\n",
        "for column in data.select_dtypes(include=['object']).columns:\n",
        "    most_frequent_value = data[column].mode()[0]\n",
        "    data_filled[column].fillna(most_frequent_value, inplace=True)\n",
        "\n",
        "# Handle Duplicates\n",
        "# Check for duplicate rows\n",
        "duplicate_rows = data_filled.duplicated().sum()\n",
        "\n",
        "# Remove duplicate rows\n",
        "data_deduplicated = data_filled.drop_duplicates()\n",
        "\n",
        "### 3. Summary of Results\n",
        "\n",
        "print(\"Numerical Data Summary:\\n\", summary_numerical)\n",
        "print(\"\\nCategorical Data Summary:\\n\", summary_categorical)\n",
        "print(\"\\nMaximum Values for Numerical Columns:\\n\", max_values_numerical)\n",
        "print(\"\\nMaximum Length of Categorical/Text Columns:\\n\", max_length_categorical)\n",
        "print(\"\\nMaximum Number of Unique Values per Column:\\n\", max_unique_values)\n",
        "print(f\"\\nNumber of Duplicate Rows: {duplicate_rows}\")\n",
        "\n",
        "# Optionally, you can return the results in a dictionary format\n",
        "summary_results = {\n",
        "    \"summary_numerical\": summary_numerical,\n",
        "    \"summary_categorical\": summary_categorical,\n",
        "    \"max_values_numerical\": max_values_numerical,\n",
        "    \"max_length_categorical\": max_length_categorical,\n",
        "    \"max_unique_values\": max_unique_values,\n",
        "    \"duplicate_rows_count\": duplicate_rows\n",
        "}\n",
        "\n",
        "summary_results\n"
      ],
      "metadata": {
        "colab": {
          "base_uri": "https://localhost:8080/"
        },
        "id": "zvvDgBtvdGuz",
        "outputId": "d7e38c83-7be2-4bfd-885b-0c62d13e5f6c"
      },
      "execution_count": null,
      "outputs": [
        {
          "output_type": "stream",
          "name": "stdout",
          "text": [
            "Numerical Data Summary:\n",
            "           rownames    Person_ID         Year        Month          Age\n",
            "count  2571.000000  2571.000000  2571.000000  2571.000000  2571.000000\n",
            "mean   1286.000000  1286.000000  2010.045508     6.298327    52.630883\n",
            "std     742.328095   742.328095     0.791412     3.202515    19.783878\n",
            "min       1.000000     1.000000  2009.000000     1.000000    12.000000\n",
            "25%     643.500000   643.500000  2009.000000     4.000000    37.000000\n",
            "50%    1286.000000  1286.000000  2010.000000     6.000000    53.000000\n",
            "75%    1928.500000  1928.500000  2011.000000     9.000000    69.000000\n",
            "max    2571.000000  2571.000000  2011.000000    12.000000   100.000000\n",
            "\n",
            "Categorical Data Summary:\n",
            "        Hospitalised  Died Urban     Sex  Education Occupation     method\n",
            "count          2571  2571  2571    2571       2571       2571       2571\n",
            "unique            2     2     3       2          5         10          9\n",
            "top             yes    no    no  female  Secondary    farming  Pesticide\n",
            "freq           1553  1315  2213    1328       1280       2032       1768\n",
            "\n",
            "Maximum Values for Numerical Columns:\n",
            " rownames     2571\n",
            "Person_ID    2571\n",
            "Year         2011\n",
            "Month          12\n",
            "Age           100\n",
            "dtype: int64\n",
            "\n",
            "Maximum Length of Categorical/Text Columns:\n",
            " Hospitalised     3\n",
            "Died             3\n",
            "Urban            7\n",
            "Sex              6\n",
            "Education        9\n",
            "Occupation      16\n",
            "method          13\n",
            "dtype: int64\n",
            "\n",
            "Maximum Number of Unique Values per Column:\n",
            " rownames        2571\n",
            "Person_ID       2571\n",
            "Hospitalised       2\n",
            "Died               2\n",
            "Urban              3\n",
            "Year               3\n",
            "Month             12\n",
            "Sex                2\n",
            "Age               87\n",
            "Education          5\n",
            "Occupation        10\n",
            "method             9\n",
            "dtype: int64\n",
            "\n",
            "Number of Duplicate Rows: 0\n"
          ]
        },
        {
          "output_type": "stream",
          "name": "stderr",
          "text": [
            "<ipython-input-7-71aec74613b4>:15: FutureWarning: DataFrame.applymap has been deprecated. Use DataFrame.map instead.\n",
            "  max_length_categorical = data.select_dtypes(include=['object']).applymap(len).max()\n"
          ]
        },
        {
          "output_type": "execute_result",
          "data": {
            "text/plain": [
              "{'summary_numerical':           rownames    Person_ID         Year        Month          Age\n",
              " count  2571.000000  2571.000000  2571.000000  2571.000000  2571.000000\n",
              " mean   1286.000000  1286.000000  2010.045508     6.298327    52.630883\n",
              " std     742.328095   742.328095     0.791412     3.202515    19.783878\n",
              " min       1.000000     1.000000  2009.000000     1.000000    12.000000\n",
              " 25%     643.500000   643.500000  2009.000000     4.000000    37.000000\n",
              " 50%    1286.000000  1286.000000  2010.000000     6.000000    53.000000\n",
              " 75%    1928.500000  1928.500000  2011.000000     9.000000    69.000000\n",
              " max    2571.000000  2571.000000  2011.000000    12.000000   100.000000,\n",
              " 'summary_categorical':        Hospitalised  Died Urban     Sex  Education Occupation     method\n",
              " count          2571  2571  2571    2571       2571       2571       2571\n",
              " unique            2     2     3       2          5         10          9\n",
              " top             yes    no    no  female  Secondary    farming  Pesticide\n",
              " freq           1553  1315  2213    1328       1280       2032       1768,\n",
              " 'max_values_numerical': rownames     2571\n",
              " Person_ID    2571\n",
              " Year         2011\n",
              " Month          12\n",
              " Age           100\n",
              " dtype: int64,\n",
              " 'max_length_categorical': Hospitalised     3\n",
              " Died             3\n",
              " Urban            7\n",
              " Sex              6\n",
              " Education        9\n",
              " Occupation      16\n",
              " method          13\n",
              " dtype: int64,\n",
              " 'max_unique_values': rownames        2571\n",
              " Person_ID       2571\n",
              " Hospitalised       2\n",
              " Died               2\n",
              " Urban              3\n",
              " Year               3\n",
              " Month             12\n",
              " Sex                2\n",
              " Age               87\n",
              " Education          5\n",
              " Occupation        10\n",
              " method             9\n",
              " dtype: int64,\n",
              " 'duplicate_rows_count': 0}"
            ]
          },
          "metadata": {},
          "execution_count": 7
        }
      ]
    },
    {
      "cell_type": "code",
      "source": [],
      "metadata": {
        "id": "Hb0JAC28fGZR"
      },
      "execution_count": null,
      "outputs": []
    }
  ]
}